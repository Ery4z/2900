{
 "cells": [
  {
   "cell_type": "markdown",
   "metadata": {},
   "source": [
    "<font size=5  color=#003366> **[LELEC2900] - Signal Processing <br><br> \n",
    "Python Evaluation - Part II** </font> <br><br><br>\n",
    "\n",
    "<font size=5  color=#003366>\n",
    "Prof. L. Vandendorpe<br>\n",
    "Prof. L. Jacques\n",
    "<br><br>\n",
    "Anne-Sophie Collin (anne-sophie.collin@uclouvain.be)<br> \n",
    "Florian Quatresooz (florian.quatresooz@uclouvain.be) <br>\n",
    "<br><br>\n",
    "</font>"
   ]
  },
  {
   "cell_type": "markdown",
   "metadata": {},
   "source": [
    "<font size=6 color=#009999> Overall instructions </font> <br>\n",
    "- You have two hours to fill in this notebook.\n",
    "- For each code cell, we specify if you must simply run it (`TO RUN`) or complete some code (`TO COMPLETE`). \n",
    "- Once you are done or the deadline (6.15pm) is approaching, save the notebook as `Evaluation2-Lastname-Firstname.ipynb` <b>with your outputs</b> and upload it on the moodle main page (there is a submission module on its main page).\n",
    "\n",
    "<br>\n",
    "Remarks:\n",
    "- The final result is not the only thing that matters. The code clarity (which may imply comments) and answers to questions matter as well.\n",
    "- If you are stuck, please add comments in code cells explaining why you feel you are stuck, what is your understanding of the situation."
   ]
  },
  {
   "cell_type": "markdown",
   "metadata": {},
   "source": [
    "<br>\n",
    "<font size=6 color=#009999> PART I: KALMAN PREDICTOR AGAINST WRONG OBSERVATION\n",
    "    </font> <br>\n",
    "<br>\n",
    "\n",
    "In this exercise, you will enrich your original Kalman predictor by making it robust against a wrong measurement. First, you will try to detect a wrong measurement based on the covariance estimate. Then, you will design a method that allows your predictor to ignore one wrong observation. \n",
    "\n",
    "Note that we are working in the exact same context as in the Python05 session, i.e. track the trajectory of a ballistic missile with the same problem modelisation. All the necessary constants and matrices are written in the following cell."
   ]
  },
  {
   "cell_type": "code",
   "execution_count": null,
   "metadata": {},
   "outputs": [],
   "source": [
    "##########################################################################\n",
    "# TO RUN\n",
    "##########################################################################\n",
    "import numpy as np\n",
    "from scipy import signal\n",
    "import matplotlib.pyplot as plt\n",
    "\n",
    "# Define all the parameters \n",
    "\n",
    "# Matrices A,Bu, G and C \n",
    "dt = 0.4 # seconds\n",
    "A  = np.array([[1., dt, 0., 0.],   \n",
    "              [0., 1., 0., 0.], \n",
    "              [0., 0., 1., dt], \n",
    "              [0., 0., 0., 1.]])  \n",
    "g  = 9.81 #meter per second^2\n",
    "Bu = np.array([[0., 0., 0., -g*dt]]).T\n",
    "C  = np.array([[1., 0., 0., 0.],\n",
    "              [0., 0., 1., 0.]])\n",
    "G  = np.array([[1., 0., 0., 0.],   \n",
    "              [0., 1., 0., 0.], \n",
    "              [0., 0., 1., 0.], \n",
    "              [0., 0., 0., 1.]])  \n",
    "\n",
    "# Matrices Q, R and P_0\n",
    "sigma_1 = 0.5\n",
    "sigma_2 = 0.5\n",
    "sigma_3 = 1.5\n",
    "sigma_4 = 0.5\n",
    "Q   = np.array([[sigma_1**2, 0, 0., 0.],   \n",
    "              [0., sigma_2**2, 0., 0.], \n",
    "              [0., 0., sigma_1**2, 0], \n",
    "              [0., 0., 0., sigma_2**2]]) \n",
    "R   = np.array([[sigma_3**2, 0],   \n",
    "              [0., sigma_3**2]]) \n",
    "P_0 = np.array([[sigma_4**2, 0, 0., 0.],   \n",
    "              [0., 0, 0., 0.], \n",
    "              [0., 0., sigma_4**2, 0], \n",
    "              [0., 0., 0., 0]]) \n",
    "\n",
    "# Initial states\n",
    "x0bar    = 15   # meter\n",
    "y0bar    = 15   # meter\n",
    "vx0bar   = 70   # meter per second\n",
    "vy0bar   = 70   # meter per second\n",
    "x0barvec = np.array([[x0bar, vx0bar, y0bar, vy0bar]]).T\n",
    "\n",
    "# Number of time steps\n",
    "Nsteps = 35"
   ]
  },
  {
   "cell_type": "markdown",
   "metadata": {},
   "source": [
    "\n",
    "<br>\n",
    "<font size=6 color=#009999> 1. Observe the recorded trajectory </font> <br>\n",
    "<br>\n",
    "\n",
    "We stored the observations in the `observations.npy` file available on Moodle. Run the following cell to obtain a plot of the observations with a wrong measurement. "
   ]
  },
  {
   "cell_type": "code",
   "execution_count": null,
   "metadata": {},
   "outputs": [],
   "source": [
    "##########################################################################\n",
    "# TO RUN\n",
    "##########################################################################\n",
    "import numpy as np\n",
    "from scipy import signal\n",
    "import matplotlib.pyplot as plt\n",
    "\n",
    "# Read the measurements made over our ballistic trajectory\n",
    "obs = np.load(\"Data/observations.npy\")\n",
    "\n",
    "plt.figure(figsize=(16, 8))\n",
    "plt.grid()\n",
    "plt.scatter(obs[:,0], obs[:,1], color='r', marker='.', s=75, alpha=0.5, label='Measurements')\n",
    "plt.legend()\n",
    "plt.xlabel('Horizontal position', fontsize=18)\n",
    "plt.ylabel('Vertical position', fontsize=18) "
   ]
  },
  {
   "cell_type": "markdown",
   "metadata": {},
   "source": [
    "Based on such a plot, it is easy to identify the measurement which deviates from the global trajectory. However, in a real-time scenario, you do not have access to the entire observation vector but only to the current and previous measurements. Hence, the detection of wrong observation can not take future observations into account. \n",
    "\n",
    "<br>\n",
    "<font size=6 color=#009999> 2. Detect wrong observations </font> <br>\n",
    "<br>\n",
    "\n",
    "Our detection method will be as follow: At each iteration of the `Kalman_predictor` loop, you only have access to an evaluation of the state vector $\\hat{\\textbf{x}}_{k+1|k}$ and the posteriori accuracy ($P_{k+1|k}$), the future trajectory and observations are still unknown. For the shake of simplicity, we will get rid of the temporal indices in the notation : $\\hat{\\textbf{x}}_{k+1|k} \\rightarrow \\hat{\\textbf{x}}$ and $P_{k+1|k} \\rightarrow P$. The objective is to detect an observation which lies outside the distribution parametrized by a mean $\\textbf{x}$ and a covariance matrix $P$. Note that velocity estimation will be ignored since we observe only the object horizontal/vertical position. \n",
    "\n",
    "An observation $\\textbf{y}$ will be detected as abnormal if: \n",
    "\n",
    "$$ | \\textbf{y}_{\\text{hor.}} - \\hat{\\textbf{x}}_{\\text{hor.}} | > 6~ \\sigma^2_{\\text{hor.}} ~~~\\text{or} ~~~ | \\textbf{y}_{\\text{vert.}} - \\hat{\\textbf{x}}_{\\text{vert.}} | > 6~ \\sigma^2_{\\text{vert.}} $$\n",
    "where $\\textbf{y}_{\\text{hor.}}$ denotes the observed position along the horizontal axis (resp. $\\textbf{y}_{\\text{vert.}}$ along the vertical axis) and $\\hat{\\textbf{x}}_{\\text{hor.}}$ denotes the estimated position along the horizontal axis (resp. $\\hat{\\textbf{x}}_{\\text{vert.}}$ along the vertical axis). $\\sigma^2_{\\text{hor.}}$ is the estimated variance about the position in the horizontal direction (resp. $\\sigma^2_{\\text{vert.}}$ is the variance in the vertical direction) as encoded in the matrix $P$. \n"
   ]
  },
  {
   "cell_type": "markdown",
   "metadata": {},
   "source": [
    "<div class=\"alert alert-block alert-info\">\n",
    "<font color=#0053B6>\n",
    "<b> Question 1 </b><br> \n",
    "Complete the following cell with your own `Kalman_predictor_with_detection` function. The core of this function is identical as the `Kalman_predictor` function from the practical session. You should only add the detection of abnormal observation as described above. If one measure lies outise the normal range, print the following message: <br> \n",
    "<samp>print(f'unlikely observation at time step ', str(k))</samp>\n",
    "with k beeing the observation's index.\n",
    "<br>\n",
    "</font>"
   ]
  },
  {
   "cell_type": "code",
   "execution_count": null,
   "metadata": {},
   "outputs": [],
   "source": [
    "##########################################################################\n",
    "# TO COMPLETE\n",
    "##########################################################################\n",
    "\n",
    "def Kalman_predictor_with_detection(A,Bu,C,G,Q,R,P_0,x0barvec,Measurements,Nsteps):\n",
    "    \n",
    "    #insert your code here. \n"
   ]
  },
  {
   "cell_type": "markdown",
   "metadata": {},
   "source": [
    "<div class=\"alert alert-block alert-info\">\n",
    "<font color=#0053B6>\n",
    "<b> Question 2 </b><br> \n",
    "Plot in the same graph:\n",
    "<ol>\n",
    "    <li> the observations;\n",
    "    <li> the estimated trajectory obtained using the Kalman predictor;\n",
    "    <li> for each prediction, a gaussian distribution of mean [$\\hat{\\textbf{x}}_x, \\hat{\\textbf{x}}_y$] and covariance matrix $\\begin{bmatrix}\n",
    "\\sigma^2_x & 0 \\\\\n",
    "0 & \\sigma^2_y \n",
    "\\end{bmatrix}$. You can use the function `plot_covariance_ellipse` to help you.\n",
    "        \n",
    "</ol>\n",
    "</font>"
   ]
  },
  {
   "cell_type": "code",
   "execution_count": null,
   "metadata": {},
   "outputs": [],
   "source": [
    "##########################################################################\n",
    "# TO COMPLETE\n",
    "##########################################################################\n",
    "\n",
    "from make_graphs import plot_covariance_ellipse\n",
    "\n",
    "#insert your code here. \n",
    " "
   ]
  },
  {
   "cell_type": "markdown",
   "metadata": {},
   "source": [
    "<br>\n",
    "<font size=6 color=#009999> 3. Implement a robust predictor </font> <br>\n",
    "<br>"
   ]
  },
  {
   "cell_type": "markdown",
   "metadata": {},
   "source": [
    "<div class=\"alert alert-block alert-info\">\n",
    "<font color=#0053B6>\n",
    "<b> Question 3 </b><br> \n",
    "Implement the `robust_Kalman_predictor` function, which is an extension of your `Kalman_predictor_with_detection` function. When an abnormal observation is detected (same procedure than before) replace the unlikely observation $\\textbf{y}_{k}$ by $\\hat{\\textbf{x}}_{k|k-1}$. <br>\n",
    "Then, provide the same plot than in Question 2 with this new prediction.\n",
    "<br>\n",
    "</font>"
   ]
  },
  {
   "cell_type": "code",
   "execution_count": null,
   "metadata": {
    "scrolled": false
   },
   "outputs": [],
   "source": [
    "##########################################################################\n",
    "# TO COMPLETE\n",
    "##########################################################################\n",
    "\n",
    "    \n",
    "def robust_Kalman_predictor(A,Bu,C,G,Q,R,P_0,x0barvec,Measurements,Nsteps):\n",
    "    \n",
    "    #insert your code here."
   ]
  },
  {
   "cell_type": "markdown",
   "metadata": {},
   "source": [
    "<br>\n",
    "<font size=6 color=#009999> PART II: REMOVE BASELINE DRIFT WITH THE DWT\n",
    "    </font> <br>\n",
    "<br>\n",
    "\n",
    "Biological signal recording suffers from multiple sources of artifact. Here we consider an ECG which has been corrupted by a low frequency signal of high amplitude. \n",
    "\n",
    "The objective of this question is to remove this artifact thanks to the discrete wavelet transform. This method could typically be used as postprocessing tool for medical applications. An example is shown below. \n",
    "<br> <br>\n",
    "\n",
    "<img src=\"Imgs/basedrift.png\">"
   ]
  },
  {
   "cell_type": "markdown",
   "metadata": {},
   "source": [
    "<div class=\"alert alert-block alert-info\">\n",
    "<font color=#0053B6>\n",
    "<b> Question 4 </b><br> \n",
    "Provide a plot with the DWT decomposition (of level 8) of the corrupted ECG imported below. Your decomposition should rely on one Daubechie wavelet. You can use any funtion provided during the pratical sessions.\n",
    "<br>\n",
    "</font>"
   ]
  },
  {
   "cell_type": "code",
   "execution_count": null,
   "metadata": {
    "scrolled": false
   },
   "outputs": [],
   "source": [
    "##########################################################################\n",
    "# TO COMPLETE\n",
    "##########################################################################\n",
    "\n",
    "# Import the signal\n",
    "signal = np.load(\"Data/CorruptedECG.npy\")\n",
    "\n",
    "#insert your code here. \n"
   ]
  },
  {
   "cell_type": "markdown",
   "metadata": {},
   "source": [
    "<div class=\"alert alert-block alert-info\">\n",
    "<font color=#0053B6>\n",
    "<b> Question 5 </b><br> \n",
    "Identify which level(s) of the decomposition are the most affected by this low frequency artifact. Comment briefly.  \n",
    "</font>"
   ]
  },
  {
   "cell_type": "code",
   "execution_count": null,
   "metadata": {},
   "outputs": [],
   "source": [
    "Answer to Question 5 here."
   ]
  },
  {
   "cell_type": "markdown",
   "metadata": {},
   "source": [
    "<div class=\"alert alert-block alert-info\">\n",
    "<font color=#0053B6>\n",
    "<b> Question 6 </b><br> \n",
    "Modify the coefficient(s) mentionned above in order to remove this artefact from the signal. Then perform the inverse DWT of your modified coefficients to obtain a filtered signal.  <br><br>\n",
    "    \n",
    "Provide a plot of: \n",
    "<ol>\n",
    "    <li> the original signal (with the artifact); \n",
    "    <li> your filtered signal (without the artifact);\n",
    "</ol>\n",
    "</font>"
   ]
  },
  {
   "cell_type": "code",
   "execution_count": null,
   "metadata": {},
   "outputs": [],
   "source": [
    "##########################################################################\n",
    "# TO COMPLETE\n",
    "##########################################################################\n",
    "\n",
    "#insert your code here. \n"
   ]
  },
  {
   "cell_type": "code",
   "execution_count": null,
   "metadata": {},
   "outputs": [],
   "source": []
  }
 ],
 "metadata": {
  "kernelspec": {
   "display_name": "Python 3 (ipykernel)",
   "language": "python",
   "name": "python3"
  },
  "language_info": {
   "codemirror_mode": {
    "name": "ipython",
    "version": 3
   },
   "file_extension": ".py",
   "mimetype": "text/x-python",
   "name": "python",
   "nbconvert_exporter": "python",
   "pygments_lexer": "ipython3",
   "version": "3.10.4"
  }
 },
 "nbformat": 4,
 "nbformat_minor": 2
}
