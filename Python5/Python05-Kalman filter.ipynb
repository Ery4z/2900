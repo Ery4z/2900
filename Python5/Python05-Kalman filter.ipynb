{
 "cells": [
  {
   "cell_type": "markdown",
   "metadata": {},
   "source": [
    "<font size=5  color=#003366> **[LELEC2900] - Signal Processing <br><br> \n",
    "Python05 - Kalman filtering** </font> <br><br><br>\n",
    "\n",
    "<font size=5  color=#003366>\n",
    "Prof. L. Vandendorpe<br>\n",
    "Prof. B. Macq<br>\n",
    "Prof. L. Jacques\n",
    "<br><br>\n",
    "Anne-Sophie Collin (anne-sophie.collin@uclouvain.be)<br> \n",
    "Florian Quatresooz (florian.quatresooz@uclouvain.be) <br>\n",
    "<br><br>\n",
    "</font>"
   ]
  },
  {
   "cell_type": "markdown",
   "metadata": {
    "scrolled": false
   },
   "source": [
    "<font size=5 color=#009999> **1. Preliminary remarks** </font> <br> \n",
    "\n",
    "<font size=3 color=#009999> **1.1. About the wording 'filter'** </font> <br> \n",
    "\n",
    "In the previous session, FIR and IIR filters have been studied. In this framework, the word *filter* has to be understood as a linear time invariant system which modifies the spectrum of an input signal (e.g. lowpass or highpass filter,...).\n",
    "\n",
    "In this session, the Kalman filter will be implemented. As explained below, the Kalman filter enables to estimate some variables based on noisy observations. In this context, the word *filter* should be understood as estimation algorithm.\n",
    "\n",
    "<font size=3 color=#009999> **1.2 Regarding the course LINMA1731** </font> <br> \n",
    "\n",
    "Some students taking this signal processing class are also taking the course LINMA1731 - Stochastic processes. The Kalman filter is also covered in that course. We are aware of this overlap. Regarding the objectives for the evaluation: \n",
    "\n",
    "- in the course LIMNA1731, the reference are the slides covered by Prof. P.A. Absil + exercise session 5.\n",
    "- in this course, the reference are the slides and papers covered by Prof. L. Jacques + this Python session.\n",
    "\n",
    "<font size=5 color=#009999> **2. Kalman equations** </font> <br> \n",
    "\n",
    "Let us first recall the general equations of the Kalman filter and predictor.\n",
    "\n",
    "<font size=3 color=#009999> **2.1 State model** </font> <br> \n",
    "\n",
    "\n",
    "Let us assume that a signal $x$ and its observations $y$ can be represented by the following discrete time state model:\n",
    "\t"
   ]
  },
  {
   "cell_type": "markdown",
   "metadata": {},
   "source": [
    "\\begin{equation*}\n",
    "\t\t\\left\\lbrace\n",
    "\t\t\\begin{array}{l c l}\n",
    "\t\t\tx_{k+1}\t& = & Ax_k + Bu_k + Gw_k \\\\\n",
    "\t\t\ty_k\t\t& = & Cx_k + v_k,\n",
    "\t\t\\end{array}\\right.\n",
    "\\end{equation*}"
   ]
  },
  {
   "cell_type": "markdown",
   "metadata": {},
   "source": [
    "where the following notations are introduced:\n",
    "\n",
    "- $x_{k}$ and $x_{k+1} \\in \\mathbb R^n$ are the state vectors at time indexes $k$ and $k+1$. The values of these vectors are unknown.\n",
    "- $u_k \\in \\mathbb{R}^m$ is a deterministic and known input.  \n",
    "- $w_k \\in \\mathbb R^q$ is an additive perturbation noise. This noise is assumed to be Gaussian, i.e. $w_k \\sim \\mathcal N (0,Q)$ with covariance matrix $Q$. \n",
    "- $y_k \\in \\mathbb R^p$ is the observation measured at time $k$. This observation is assumed to be known.\n",
    "- $v_k \\in \\mathbb R^p$ is the observation noise. This noise is assumed to be Gaussian, i.e. $v_k \\sim \\mathcal N (0,R)$ with covariance matrix $R$. \n",
    "- The matrices $A$, $B$, $G$ and $C$ are part of the state model. These matrices are constants (the parameters are assumed to be stationary). "
   ]
  },
  {
   "cell_type": "markdown",
   "metadata": {},
   "source": [
    "The initial state is given by $x_0 \\sim \\mathcal N(\\bar x_0,P_0)$. This value is random, Gaussian and unknown. \n",
    "The signals $w_k$ and $v_k$ are mutually independent and independent of $x_0$.\n",
    "\n",
    "The objective here is to estimate the values of $x$ at every time step based on the knowledge\n",
    "\n",
    "- of the observations $y_k$;\n",
    "- of the state model;\n",
    "\n",
    "We can distinguish: \n",
    "\n",
    "- the Kalman predictor, predicting the value of the state vector at time $k+1$ based on information at time $k$.\n",
    "- the Kalman filter, estimating the value of the state vector at time $k$ based on information at time $k$."
   ]
  },
  {
   "cell_type": "markdown",
   "metadata": {},
   "source": [
    "<font size=3 color=#009999> **2.2 Kalman predictor** </font> <br> \n",
    "\n",
    "The Kalman predictor starts at time 0 with \n",
    "\n",
    "- $\\hat x_{0|-1} = \\bar x_0$, predictor at time 0\n",
    "- $P_{0|-1} = P_0$, covariance matrix at time zero\n",
    "\n",
    "For times indexes 1,2,... one has to recursively compute at each step \n",
    "\n",
    "- the Kalman predictor gain $K_k = AP_{k|k-1}C^T(CP_{k|k-1}C^T+R)^{-1}$\n",
    "\n",
    "- the covariance $P_{k+1|k} = AP_{k|k-1}A^T + GQG^T - K_k C P_{k|k-1}A^T$ (Ricatti equation)\n",
    "\n",
    "- the predictor $\\hat x_{k+1|k} = (A-K_k C)\\hat x_{k|k-1} + B u_k + K_k y_k$ "
   ]
  },
  {
   "cell_type": "markdown",
   "metadata": {},
   "source": [
    "<font size=3 color=#009999> **2.3 Kalman filter** </font> <br> \n",
    "\n",
    "The equations of the Kalman filter follow the same principle and are given by \n",
    "\n",
    "- estimator $\\hat x_{k|k} = \\hat x_{k|k-1} + K_k^f \\tilde y_{k|k-1}$ where $\\tilde y_{k|k-1} = y_k - \\hat{y}_{k|k-1}$\n",
    "- Kalman filter gain $K_k^f = P_{k|k-1}C^T(CP_{k|k-1}C^T+R)^{-1} = A^{-1}K_k$\n",
    "- Covariance $P_{k|k} = P_{k|k-1} - P_{k|k-1}C^T (C P_{k|k-1}C^T+R)^{-1} C P_{k|k-1}$"
   ]
  },
  {
   "cell_type": "markdown",
   "metadata": {},
   "source": [
    "<font size=5 color=#009999> **2. Exercises** </font> <br> \n",
    "\n",
    "<font size=3 color=#009999> **2.1 Context** </font> <br> \n",
    "\n",
    "In this session, we will use the Kalman predictor to track the trajectory of a ballistic missile.\n",
    "\n",
    "Let us first recall the equations of this type of trajectory.\n",
    "\n",
    "Let $(x_0,y_0)$ be the initial position of the missile, $v_0$ its initial speed and $\\phi_0$ the elevation angle of the shoot.\n",
    "\n",
    "The initial speed components along the x- and y- axis are given by $(v_{0x},v_{0y})= \\big(v_{0}\\cos(\\phi_0),v_{0}\\sin(\\phi_0)\\big)$\n",
    "\n",
    "The mass of the missile is here set to 1 kg. \n",
    "\n",
    "If the missile is assumed to be in vacuum, the equations of motion are quite simple: \n",
    "\n",
    "- the horizontal position is a uniform motion $x(t) = x_0 + v_{0x} t$\n",
    "- the vertical position is a uniformly accelerated motion (because of the gravity) $y(t) = y_0 + v_{0y}t - \\dfrac{gt^2}{2}$ (where $g = 9.81 m/s^2$)\n",
    "\n",
    "These equations are of course ideal and do not fully reflect the reality. In practise, many other effects have an impact on the motion (rotation of the ball, drag force,...). \n",
    "\n",
    "This session contains 3 exercises: \n",
    "\n",
    "- in exercise 1, you will implement a Kalman predictor to track a missile with the state model in vacuum, and with a simple Gaussian perturbation\n",
    "- in exercise 2, you will study the impact of the system parameters on the performance of the filter\n",
    "- in exercise 3, you will see how to improve the traditional Kalman filter to better model nonlinear effects. "
   ]
  },
  {
   "cell_type": "markdown",
   "metadata": {},
   "source": [
    "<font size=3 color=#009999> **2.2 Exercise 1** </font> <br> \n",
    "\n",
    "Taking into account the positions and velocities in both dimensions, the state vector is here defined as \n",
    "\n",
    "$$\\mathbf x = \n",
    "\\begin{bmatrix}x & v_x & y & v_y\\end{bmatrix}^\\mathsf T$$\n",
    "\n",
    "Using the equations of the previous section, the state model is given by \n",
    "\n",
    "$$ \\mathbf x_{k+1} = \\begin{bmatrix}1& \\Delta t& 0& 0\\\\0& 1& 0& 0\\\\0& 0& 1& \\Delta t\\\\ 0& 0& 0& 1\\end{bmatrix} \\mathbf x_{k} + \\begin{bmatrix}0 \\\\ 0 \\\\ 0 \\\\ -g\\Delta t \\end{bmatrix} + \\begin{bmatrix}1& 0 & 0& 0\\\\0& 1& 0& 0\\\\0& 0& 1& 0 \\\\ 0& 0& 0& 1\\end{bmatrix} \\mathbf{w}_k $$ \n",
    "\n",
    "$$ \\mathbf y_k = \\begin{bmatrix} 1 & 0 & 0 & 0 \\\\ 0 & 0 & 1 & 0 \\end{bmatrix} \\mathbf x_{k} +  \\begin{bmatrix}1 \\\\ 1 \\end{bmatrix} \\mathbf{v}_k $$ \n",
    "\n",
    "The following notations have been introduced: \n",
    "\n",
    "- the factor $\\Delta t$ is the time between two successive time steps. \n",
    "- the factors $B$ and $u_k$ have been grouped into vector $ \\begin{bmatrix} 0 & 0 & 0 & -g\\Delta t\\end{bmatrix}^\\mathsf T$\n",
    "- the term $\\mathbf{w}_k \\sim \\mathcal N (0,\\mathbf{Q})$ has been added to model additional physical effects (mild wind, rotation of the ball,...). Its covariance matrix is given by \n",
    "\n",
    "   $$ \\mathbf{Q} = \\begin{bmatrix}\\sigma_1^2& 0 & 0& 0\\\\0& \\sigma_2^2& 0& 0\\\\0& 0& \\sigma_1^2& 0\\\\ 0& 0& 0&    \\sigma_2^2\\end{bmatrix} $$ \n",
    "\n",
    "   As explained in exercise 3, modeling the physical effects as a Gaussian is actually a very strong (and unrealistic) assumption.\n",
    "\n",
    "- the term $\\mathbf{v}_k \\sim \\mathcal N (0,\\mathbf{R})$ represents the measurement noise in the snapshots of the trajectory. Its covariance matrix is given by \n",
    "\n",
    "$$ \\mathbf{R} = \\begin{bmatrix}\\sigma_3^2&0\\\\0&\\sigma_3^2\\end{bmatrix} $$\n",
    "\n",
    "The initial state is given by $\\mathbf{x}_0 \\sim \\mathcal N \\big(\\overline{ \\mathbf{x}}_0,\\mathbf{P}_0 \\big)$ where \n",
    "\n",
    "$$ \\overline{\\mathbf{x}}_0 = \\begin{bmatrix} \\overline{x}_0 & \\overline{v}_{x0} & \\overline{y}_0 & \\overline{v}_{y0} \\end{bmatrix}^\\mathsf T \\; \\; \\text{and} \\; \\; \\mathbf{P}_0 = \\begin{bmatrix}\\sigma_4^2& 0 & 0& 0\\\\0& 0 & 0& 0\\\\0& 0& \\sigma_4^2& 0\\\\ 0& 0& 0& 0 \\end{bmatrix} $$ \n",
    "\n",
    "(Nb: as slight abuse of notation in the above equations, we use $y$ to denote the vertical position the state vector, and $\\mathbf y_k$ to denote the observations)."
   ]
  },
  {
   "cell_type": "markdown",
   "metadata": {},
   "source": [
    "1. We first have to generate a random trajectory and the noisy measurements that will be used to track this random trajectory. \n",
    "   We provide you the necessary constants and matrices in the following cell."
   ]
  },
  {
   "cell_type": "code",
   "execution_count": 1,
   "metadata": {},
   "outputs": [],
   "source": [
    "import numpy as np\n",
    "from scipy import signal\n",
    "import matplotlib.pyplot as plt\n",
    "\n",
    "# Define all the parameters \n",
    "\n",
    "# Matrices A,Bu, G and C \n",
    "\n",
    "dt = 0.2 # seconds\n",
    "\n",
    "A = np.array([[1., dt, 0., 0.],   \n",
    "              [0., 1., 0., 0.], \n",
    "              [0., 0., 1., dt], \n",
    "              [0., 0., 0., 1.]])  \n",
    "\n",
    "g = 9.81 #meter per second^2\n",
    "\n",
    "Bu = np.array([[0., 0., 0., -g*dt]]).T\n",
    "\n",
    "C = np.array([[1., 0., 0., 0.],\n",
    "              [0., 0., 1., 0.]])\n",
    "\n",
    "G =  np.array([[1., 0., 0., 0.],   \n",
    "              [0., 1., 0., 0.], \n",
    "              [0., 0., 1., 0.], \n",
    "              [0., 0., 0., 1.]])  \n",
    "\n",
    "# Matrices Q, R and P_0\n",
    "\n",
    "sigma_1 = 0.5\n",
    "sigma_2 = 0.5\n",
    "sigma_3 = 1.5\n",
    "sigma_4 = 0.5\n",
    "\n",
    "Q = np.array([[sigma_1**2, 0, 0., 0.],   \n",
    "              [0., sigma_2**2, 0., 0.], \n",
    "              [0., 0., sigma_1**2, 0], \n",
    "              [0., 0., 0., sigma_2**2]]) \n",
    "\n",
    "R = np.array([[sigma_3**2, 0],   \n",
    "              [0., sigma_3**2]]) \n",
    "\n",
    "P_0 = np.array([[sigma_4**2, 0, 0., 0.],   \n",
    "              [0., 0, 0., 0.], \n",
    "              [0., 0., sigma_4**2, 0], \n",
    "              [0., 0., 0., 0]]) \n",
    "\n",
    "# Initial states\n",
    "\n",
    "x0bar = 15    # meter\n",
    "y0bar = 15    # meter\n",
    "vx0bar = 70   # meter per second\n",
    "vy0bar = 70   # meter per second\n",
    "\n",
    "x0barvec = np.array([[x0bar, vx0bar, y0bar, vy0bar]]).T\n",
    "\n",
    "# Number of time steps\n",
    "\n",
    "Nsteps = 75            "
   ]
  },
  {
   "cell_type": "markdown",
   "metadata": {},
   "source": [
    "Using the above state model, generate a set of values $\\mathbf x_{k}$ and $\\mathbf y_{k}$. To do so, fill the following function to generate the trajectory and measurements.\n",
    "\n",
    "You will find a few hints below: \n",
    "\n",
    "- the function *np.random.multivariate_normal* might be useful here. \n",
    "- you might use the operator @ to perform matrix multiplications (see Python documentation).\n",
    "- mind the dimensions of your different variables!"
   ]
  },
  {
   "cell_type": "code",
   "execution_count": 2,
   "metadata": {},
   "outputs": [],
   "source": [
    "# Function to generate the trajectory and the measurements\n",
    "\n",
    "def traj_and_mes(A,Bu,C,G,Q,R,x0vec,Nsteps):\n",
    "    \n",
    "    # Outputs :\n",
    "    # - States, a Nsteps x 4 array containing the states at all time indexes \n",
    "    # - Measurements, a Nsteps x 2 array containing the observations at all time indexes \n",
    "    \n",
    "    # Your code here\n",
    "    \n",
    "    States = x0vec.T\n",
    "    \n",
    "    \n",
    "    y0 = np.expand_dims(np.matmul(C,States[-1]),1) + np.random.normal(scale=np.array([R[0,0],R[1,1]]),size=(1,2))\n",
    "    Measurements =y0\n",
    "    \n",
    "    \n",
    "\n",
    "    for k in range(Nsteps):\n",
    "        \n",
    "        x_k_k1 = np.expand_dims(States[-1],1)\n",
    "\n",
    "\n",
    "        y_k = (C@x_k_k1 + np.random.normal(scale=np.array([R[0,0],R[1,1]]),size=(1,2)).T).T\n",
    "        \n",
    "        \n",
    "        \n",
    "        x_k1_k = (A@x_k_k1+Bu).T\n",
    "\n",
    "        \n",
    "\n",
    "        States = np.r_[States,x_k1_k]\n",
    "        \n",
    "        \n",
    "        \n",
    "        Measurements = np.r_[Measurements,y_k]\n",
    "    \n",
    "    \n",
    "    return States, Measurements  \n",
    "\n"
   ]
  },
  {
   "cell_type": "code",
   "execution_count": 3,
   "metadata": {},
   "outputs": [],
   "source": [
    "# Generate initial conditions x0vec, and call traj_and_mes to generate the true trajectory and the measurements\n",
    "\n",
    "# Your code here\n",
    "\n",
    "Npoints = 80\n",
    "\n",
    "States, Measurements = traj_and_mes(A,Bu,C,G,Q,R,x0barvec,Npoints)"
   ]
  },
  {
   "cell_type": "markdown",
   "metadata": {},
   "source": [
    "2. Implement the Kalman predictor to track to trajectory based on the generated snapshots. To do so, fill the function below. "
   ]
  },
  {
   "cell_type": "code",
   "execution_count": 4,
   "metadata": {},
   "outputs": [],
   "source": [
    "#Define the Kalman predictor\n",
    "plt.rcParams[\"figure.figsize\"]=20,10\n",
    "def Kalman_predictor(A,Bu,C,G,Q,R,P_0,x0barvec,Measurements,Nsteps):\n",
    "    \n",
    "    # Output : \n",
    "    # - Predicted_states, a Nsteps x 4 array containing the states at all time indexes\n",
    "    \n",
    "    # Your code here\n",
    "        \n",
    "    Predicted_states =x0barvec.T     \n",
    "    \n",
    "    P = P_0\n",
    "    \n",
    "    for k in range(Nsteps):\n",
    "        x_k_k1 = np.expand_dims(Predicted_states[-1],1)\n",
    "        \n",
    "        y_k = np.expand_dims(Measurements[k],1)\n",
    "        \n",
    "        K_k = A@P@C.T@np.linalg.inv(C@P@C.T+R)\n",
    "        \n",
    "    \n",
    "        P = A@P@A.T+G@Q@G.T-K_k@C@P@A.T\n",
    "        \n",
    "        x_k1_k = (((A-K_k@C)@x_k_k1)+Bu+(K_k@y_k)).T\n",
    "        \n",
    "\n",
    "        \n",
    "        Predicted_states = np.r_[Predicted_states,x_k1_k]\n",
    "    \n",
    "    \n",
    "    return Predicted_states\n",
    "\n",
    "\n",
    "\n"
   ]
  },
  {
   "cell_type": "markdown",
   "metadata": {},
   "source": [
    "3.   Plot in the same graph\n",
    "\n",
    "    - the true (and unknown) trajectory;\n",
    "    - the noisy measurements;\n",
    "    - the estimated trajectory obtained using the Kalman filter;"
   ]
  },
  {
   "cell_type": "code",
   "execution_count": 5,
   "metadata": {},
   "outputs": [],
   "source": [
    "# Apply the predictor on the measurements generated in the previous question\n",
    "Predicted = Kalman_predictor(A,Bu,C,G,Q,R,P_0,x0barvec,Measurements,Npoints)\n",
    "# Your code here"
   ]
  },
  {
   "cell_type": "code",
   "execution_count": 6,
   "metadata": {},
   "outputs": [
    {
     "data": {
      "image/png": "[encoded data removed]",
      "text/plain": [
       "<Figure size 1440x720 with 1 Axes>"
      ]
     },
     "metadata": {
      "needs_background": "light"
     },
     "output_type": "display_data"
    }
   ],
   "source": [
    "# Plot the true trajectory, the measurements and the predicted positions in the same graph\n",
    "dot_size = 10\n",
    "\n",
    "plt.plot(Predicted[:,0],Predicted[:,2],label=\"Estimated\")\n",
    "plt.scatter(States[:,0],States[:,2],label=\"Real\",s=dot_size)\n",
    "plt.scatter(Measurements[:,0],Measurements[:,1],label=\"Mesured\",s=dot_size)\n",
    "plt.legend()\n",
    "plt.grid()\n",
    "plt.show()\n",
    "# Your code here"
   ]
  },
  {
   "cell_type": "markdown",
   "metadata": {},
   "source": [
    "<font size=3 color=#009999> **2.3 Exercise 2** </font> <br> \n",
    "\n",
    "The experiment performed in the previous exercise can be repeated $N_{\\exp}$ times (i.e. for $N_{\\exp}$ different trajectories). For a given set of parameters, we define the mean square error of the filter as \n",
    "\n",
    "$$ \\overline{MSE} = \\dfrac{1}{N_{\\exp} N_{\\text{steps}}} \\sum_{n=0}^{N_{\\exp}} \\sum_{k=0}^{N_{\\text{steps}}}  \\big(x_{n,\\text{pred}}(k) - x_{n,\\text{true}}(k)\\big)^2 + \\big(y_{n,\\text{pred}}(k) - y_{n,\\text{true}}(k)\\big)^2$$ \n",
    "\n",
    "where $x_{n,\\text{pred}}(k)$, $x_{n,\\text{true}}(k)$, $y_{n,\\text{pred}}(k)$ and $y_{n,\\text{true}}(k)$ are the coordinates of the true and estimated positions at time step k in the nth generated trajectory. \n",
    "\n",
    "Consider the predictor implemented in the previous exercise. Study the impact on the MSE of the following parameters: \n",
    "\n",
    "- the time step $\\Delta t$;\n",
    "- the four variances $\\sigma_1^2$,...,$\\sigma_4^2$;\n",
    "\n",
    "For each parameter, plot the MSE versus the values of the parameter. Comment your results."
   ]
  },
  {
   "cell_type": "code",
   "execution_count": 7,
   "metadata": {
    "scrolled": false
   },
   "outputs": [
    {
     "name": "stdout",
     "output_type": "stream",
     "text": [
      "====================================================\n",
      "\t Time step Analysis\n",
      "====================================================\n"
     ]
    },
    {
     "data": {
      "image/png": "[encoded data removed]",
      "text/plain": [
       "<Figure size 1440x720 with 1 Axes>"
      ]
     },
     "metadata": {
      "needs_background": "light"
     },
     "output_type": "display_data"
    }
   ],
   "source": [
    "import random as rd\n",
    "# Your code here\n",
    "def MSE(N_exp,N_steps,X_pred,X_true,Y_pred,Y_true):\n",
    "    sub_sum1 = 0\n",
    "    result = 0\n",
    "    for i in range(N_exp):\n",
    "        sub_sum1 = 0\n",
    "        for k in range(N_steps):\n",
    "            sub_sum1 += np.square((X_pred[i][k]-X_true[i][k])) + np.square((Y_pred[i][k]-Y_true[i][k]))\n",
    "        result += sub_sum1\n",
    "    return result/(N_steps*N_exp)\n",
    "\n",
    "x_0_l = []\n",
    "N_exp = 20\n",
    "Npoints = 100\n",
    "\n",
    "for k in range(N_exp):\n",
    "    x_0_l.append(np.array([[rd.random()*100, rd.random()*100, rd.random()*100, rd.random()*100]]).T)\n",
    "    \n",
    "# =================================================================\n",
    "# TIME STEP ANALYSIS\n",
    "# =================================================================\n",
    "print(\"====================================================\")\n",
    "print(\"\\t Time step Analysis\")\n",
    "print(\"====================================================\")\n",
    "step_range = range(1,51)\n",
    "MSE_res = []\n",
    "\n",
    "for step in step_range:\n",
    "    step = step/10 # the step is between [0.1s, 10s]\n",
    "    \n",
    "    # Matrices A,Bu, G and C \n",
    "\n",
    "    dt = step # seconds\n",
    "\n",
    "    A = np.array([[1., dt, 0., 0.],   \n",
    "                  [0., 1., 0., 0.], \n",
    "                  [0., 0., 1., dt], \n",
    "                  [0., 0., 0., 1.]])  \n",
    "\n",
    "    g = 9.81 #meter per second^2\n",
    "\n",
    "    Bu = np.array([[0., 0., 0., -g*dt]]).T\n",
    "\n",
    "    C = np.array([[1., 0., 0., 0.],\n",
    "                  [0., 0., 1., 0.]])\n",
    "\n",
    "    G =  np.array([[1., 0., 0., 0.],   \n",
    "                  [0., 1., 0., 0.], \n",
    "                  [0., 0., 1., 0.], \n",
    "                  [0., 0., 0., 1.]])\n",
    "    State_res = []\n",
    "    Pred_res = []\n",
    "    for x_0 in x_0_l:\n",
    "        States, Measurements = traj_and_mes(A,Bu,C,G,Q,R,x_0,Npoints)\n",
    "        Predicted = Kalman_predictor(A,Bu,C,G,Q,R,P_0,x_0,Measurements,Npoints)\n",
    "        \n",
    "        State_res.append(States)\n",
    "        Pred_res.append(Predicted)\n",
    "        \n",
    "    State_res = np.array(State_res)\n",
    "    Pred_res = np.array(Pred_res)\n",
    "\n",
    "    \n",
    "    MSE_res.append(MSE(N_exp,Npoints,State_res[:,:,0],Pred_res[:,:,0],State_res[:,:,2],Pred_res[:,:,2]))\n",
    "\n",
    "\n",
    "plt.plot(step_range,MSE_res)\n",
    "plt.yscale('log')\n",
    "plt.xscale('log')\n",
    "plt.show()\n",
    "\n",
    "\n",
    "\n",
    "\n",
    "\n"
   ]
  },
  {
   "cell_type": "markdown",
   "metadata": {},
   "source": [
    "<font size=3 color=#009999> **2.4 To go further (not covered in this course)** </font> <br> \n",
    "\n",
    "Modeling the nonlinear effects of the motion as a Gaussian perturbation is of course very inaccurate. In practice, these forces are anything but Gaussian. In [1], an analytical expression\n",
    "is proposed to model the drag force (wind resistance) as function of the speed of the missile\n",
    "    \n",
    "$$F_{drag} = -B_2v^2$$\n",
    "\n",
    "where $B_2$ is a coefficient derived experimentally and $v = \\sqrt{v_x^2+v_y^2}$.\n",
    "\n",
    "This force can be easily decomposed into its x- and y- components \n",
    "\n",
    "$$\\begin{aligned}\n",
    "F_{drag,x} &= -B_2v v_x\\\\\n",
    "F_{drag,y} &= -B_2v v_y\n",
    "\\end{aligned}$$\n",
    "\n",
    "Since we are considering a unit mass body, the acceleration is therefore given by \n",
    "\n",
    "$$\\begin{aligned} \n",
    "a_x &= - B_2 v v_x = - B_2 \\sqrt{v_x^2+v_y^2} \\; v_x \\\\\n",
    "a_y &= - B_2 v v_y = - B_2 \\sqrt{v_x^2+v_y^2} \\; v_y\n",
    "\\end{aligned}$$\n",
    "\n",
    "Stil for a unit mass body, a possible approximation for $B_2$ is given by \n",
    "\n",
    "$$B_2 = 0.0039 + \\frac{0.0058}{1+\\exp{[(v-35)/5]}}$$\n",
    "\n",
    "The above expressions depend on the speed in a nonlinear manner. The traditional Kalman filter that has been used so far can not properly takes nonlinear forces into account. The required state model must be of the form $x_{k+1} = Ax_k + Bu_k + Gw_k$ where the future state only linearly depends on the previous one, and where the terms $Bu_k + Gw_k$ are independent of $x_k$. The expression of the drag force can not be captured by such state model. \n",
    "\n",
    "For this reason, we can fortunately resort to the *extended Kalman filter* (EKF) or the *unscented Kalman filter* (UKF). These filters are improved versions of the traditional KF enabling to deal with nonlinear state models. \n",
    "\n",
    "In this exercise, you are asked to implement these two filters and to apply them on the previous scenario (including the drag force). Compare their performances.\n",
    "\n",
    "Nb: since the EKF and UKF have not been covered during the lecture, this exercise is left as 'challenge'. You will have to search in the litterature/on the web to find out how to implement these filters. Here are a few potential webpages: \n",
    "\n",
    "- https://www.cs.cmu.edu/~motionplanning/papers/sbp_papers/kalman/ekf_lecture_notes.pdf\n",
    "- https://stanford.edu/class/ee363/lectures/ekf.pdf\n",
    "- https://www.seas.harvard.edu/courses/cs281/papers/unscented.pdf\n",
    "- https://www.cse.sc.edu/~terejanu/files/tutorialUKF.pdf"
   ]
  },
  {
   "cell_type": "code",
   "execution_count": 4,
   "metadata": {},
   "outputs": [],
   "source": [
    "# Your code here "
   ]
  },
  {
   "cell_type": "markdown",
   "metadata": {},
   "source": [
    "<font size=3 color=#009999> **Reference** </font> <br> \n",
    "\n",
    "[1] N. Giordano, H. Nakanishi, *Computational Physics*, 1997"
   ]
  }
 ],
 "metadata": {
  "kernelspec": {
   "display_name": "Python 3 (ipykernel)",
   "language": "python",
   "name": "python3"
  },
  "language_info": {
   "codemirror_mode": {
    "name": "ipython",
    "version": 3
   },
   "file_extension": ".py",
   "mimetype": "text/x-python",
   "name": "python",
   "nbconvert_exporter": "python",
   "pygments_lexer": "ipython3",
   "version": "3.10.4"
  }
 },
 "nbformat": 4,
 "nbformat_minor": 2
}
