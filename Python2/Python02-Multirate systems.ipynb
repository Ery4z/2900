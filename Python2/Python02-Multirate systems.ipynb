{
 "cells": [
  {
   "cell_type": "markdown",
   "metadata": {},
   "source": [
    "<font size=5  color=#003366> <b>[LELEC2900] - Signal Processing <br><br> \n",
    "Python02 - Multirate systems</b> </font> <br><br><br>\n",
    "\n",
    "<font size=5  color=#003366>\n",
    "Prof. L. Vandendorpe<br>\n",
    "Prof. L. Jacques\n",
    "<br><br>\n",
    "Anne-Sophie Collin (anne-sophie.collin@uclouvain.be)<br> \n",
    "Florian Quatresooz (florian.quatresooz@uclouvain.be) <br>\n",
    "<br><br>\n",
    "</font>"
   ]
  },
  {
   "cell_type": "markdown",
   "metadata": {},
   "source": [
    "<font size=5 color=#009999> <b>1. Decimation and interpolation </b> </font> <br> <br>\n",
    "\n",
    "<font size=5 color=#009999> <i>1.1 Gentle reminder</i> </font>\n",
    "\n",
    "\n",
    "Multirate systems are fundamental in the design of modern signal processing techniques. In order to design such systems, one must be able to convert signals at higher or lower sample rates. With this aim in view, the concepts of interpolation and decimation have been addressed during the lectures: \n",
    "\n",
    "\n",
    "- <b>Interpolation</b> is used for converting a signal at a higher sample rate. The basic implementation of an interpolation filter (of factor $I$) consists in two successive steps:\n",
    "    - inserting $I-1$ zeros between the samples of the original signal\n",
    "    - Applying a low-pass filter on the signal.\n",
    "\n",
    "    <img src=\"Imgs/image_4.png\" width = \"400\">\n",
    "\n",
    "- <b>Decimation</b> is used for converting a signal at a lower sample rate. The basic implementation of a decimation filter (of factor $D$) consists in two successive steps:\n",
    "\n",
    "    - applying a low pass filter on the original signal (to avoid aliasing).\n",
    "    - removing $D-1$ samples for every block of $D$ succesive samples.\n",
    "\n",
    "    <img src=\"Imgs/image_5.png\" width = \"400\">\n",
    "    <br>\n",
    "    \n",
    "<font size=5 color=#009999> <i>1.2 Generate a sine wave</i> </font>\n",
    "\n",
    "The objective of this exercise is to apply the operations of decimation and interpolation on a simple sine function, and to observe their effects in the spectral domain.\n",
    "\n",
    "These operations of decimation and interpolation will be performed in three manners: \n",
    "\n",
    "<ol>\n",
    "   <li> By applying the standard definitions of these operations (without using polyphase components).\n",
    "   <li>By implementing polyphase components.\n",
    "   <li> Using the built in function <samp>signal.resample_poly<samp>.\n",
    "</ol>   \n",
    "We consider a continuous sine function of unit amplitude and with a frequency of $100$ Hz. This function is corrupted by a zero mean Gaussian noise of variance $0.05$. One records noisy measurements of this signal during $0.04$ seconds with a sampling frequency of $10^4$ Hz. Generate a vector x containing these measured values. Plot the resulting sequence in the time domain as well as its DFT (in magnitude)."
   ]
  },
  {
   "cell_type": "code",
   "execution_count": null,
   "metadata": {},
   "outputs": [],
   "source": [
    "#---------------------------------------------------------------------------\n",
    "#TO RUN\n",
    "#We provide you two funtions to plot a time signal (with/without its DFT) in\n",
    "#the make_graphs file. Open the file to read the function's description if \n",
    "#you want to use them.\n",
    "#---------------------------------------------------------------------------\n",
    "\n",
    "%load_ext autoreload\n",
    "%autoreload 2\n",
    "from make_graphs import *\n",
    "import numpy as np   \n",
    "from scipy import signal as signal\n",
    "import cmath as math"
   ]
  },
  {
   "cell_type": "code",
   "execution_count": null,
   "metadata": {},
   "outputs": [],
   "source": [
    "#---------------------------------------------------------------------------\n",
    "#TO COMPLETE\n",
    "#---------------------------------------------------------------------------\n"
   ]
  },
  {
   "cell_type": "markdown",
   "metadata": {},
   "source": [
    "<font size=5 color=#009999> <i>1.3 Standard decimation and interpolation</i> </font>\n",
    "\n",
    "In order to simplify the sinusoidal storage or transmission, we decimate signal $x$ by $M=10$, after performing a proper lowpass filtering to minimize aliasing distortion. \n",
    "\n",
    "Since digital filters have not been covered yet in this course, the low-pass filter that we will implement here is arbitrarily chosen. We here select a moving average filter of order 20 since this filter is easy to implement.\n",
    "As a reminder, the impulse response of a moving average filter of order $N$ is given by \n",
    "$$h[n] = \\frac{1}{N}  ~\\text{for}~ n = 0,...,N-1.$$\n",
    "\n",
    "Since the impulse response of this filter is a rectangle, its Fourier transform is a cardinal sine, which can be used to perform the low pass filtering operation. \n",
    "    \n",
    "Plot the decimated signal in the frequency domain as well as its DFT (in magnitude).\n"
   ]
  },
  {
   "cell_type": "code",
   "execution_count": null,
   "metadata": {},
   "outputs": [],
   "source": [
    "#---------------------------------------------------------------------------\n",
    "#TO COMPLETE\n",
    "#---------------------------------------------------------------------------\n"
   ]
  },
  {
   "cell_type": "markdown",
   "metadata": {},
   "source": [
    "Expand the rate back to its original value by introducing $(M-1)$ zeros between each two consecutive subsamples.\n",
    "   \n",
    "Plot the resulting sequence in the time domain as well as its DFT (in magnitude)."
   ]
  },
  {
   "cell_type": "code",
   "execution_count": null,
   "metadata": {},
   "outputs": [],
   "source": [
    "#---------------------------------------------------------------------------\n",
    "#TO COMPLETE\n",
    "#---------------------------------------------------------------------------\n"
   ]
  },
  {
   "cell_type": "markdown",
   "metadata": {},
   "source": [
    "Remove the spectral repetitions induced by the inserted zeros by means of a low pass filter. Make use of a triangular filter of length $20$ (using the function <samp>signal.triang</samp>)."
   ]
  },
  {
   "cell_type": "code",
   "execution_count": null,
   "metadata": {},
   "outputs": [],
   "source": [
    "#---------------------------------------------------------------------------\n",
    "#TO COMPLETE\n",
    "#---------------------------------------------------------------------------\n"
   ]
  },
  {
   "cell_type": "markdown",
   "metadata": {},
   "source": [
    "Compare the resulting signals with the original signal before decimation. What do you observe (in the time and frequency domains)?"
   ]
  },
  {
   "cell_type": "markdown",
   "metadata": {},
   "source": [
    "<font size=5 color=#009999> <i>1.4 Decimation and interpolation using polyphase components</i> </font>\n",
    "\n",
    "As explained in the slides of Lecture 3, it is possible to employ polyphase components to perform rate changing operations using less operations. Repeat the rate changing operations of the previous section using this approach."
   ]
  },
  {
   "cell_type": "code",
   "execution_count": null,
   "metadata": {},
   "outputs": [],
   "source": [
    "#---------------------------------------------------------------------------\n",
    "#TO COMPLETE\n",
    "#---------------------------------------------------------------------------\n",
    "\n"
   ]
  },
  {
   "cell_type": "markdown",
   "metadata": {},
   "source": [
    "<font size=5 color=#009999> <i>1.5 Decimation and interpolation using Python built in function</i> </font>\n",
    "\n",
    "Repeat the rate-changing operations employed in the present experiment by using functions signal.resample_poly from scipy.  \n"
   ]
  },
  {
   "cell_type": "code",
   "execution_count": null,
   "metadata": {},
   "outputs": [],
   "source": [
    "#---------------------------------------------------------------------------\n",
    "#TO COMPLETE\n",
    "#---------------------------------------------------------------------------\n"
   ]
  },
  {
   "cell_type": "markdown",
   "metadata": {},
   "source": [
    "Compare the recovered signals in time and frequency with those obtained in section A."
   ]
  },
  {
   "cell_type": "markdown",
   "metadata": {},
   "source": [
    "<font size=5 color=#009999> <b>2. Filter banks </b> </font> <br> <br>\n",
    "\n",
    "In the framework of the following exercise, we introduce the concept of <b>filter bank</b> (see figure below).\n",
    "\n",
    "A filter bank consists in an array of bandpass filters that separate an original signal $x[n]$ into $N$ subband signals $y_k[n]$. \n",
    "Each of these subband signals contains a specific portion of the spectrum of the original signal. <br>\n",
    "The process of separating and modifying the subband signals is called <b>analysis</b>. <br>\n",
    "The process of recombining the subband signals into one total output signal is called <b>synthesis</b>.\n",
    "\n",
    "<img src=\"Imgs/image_1.png\" width = \"800\"><br><br>\n",
    "\n",
    "<font size=5 color=#009999> <i>2.1 Example of application </i> </font>\n",
    "\n",
    "In practice, a filter bank can be used for instance to manipulate audio signals. In the analysis filter bank, the signal is first decomposed into different subband signals. These subbands signals $y_k[n]$ can then be modified (to become $\\hat{y}_k[n]$). Possible modifications can include\n",
    "\n",
    "- Downsampling\n",
    "- Storage/transmission\n",
    "- Filtering\n",
    "- ...\n",
    "\n",
    "In the case of audio signals, some frequencies are more important than others for the hearing. If the signal has to be stored in a memory for instance: \n",
    "\n",
    "- subband signals associated to frequencies that are less 'important' can be compressed at a lower resolution\n",
    "- subband signals associated to frequencies that are more important can be compressed at a higher resolution\n",
    "\n",
    "<br><br>\n",
    "<font size=5 color=#009999> <i>2.2 Uniform filter bank </i> </font>\n",
    "\n",
    "If the filters $H_k(e^{j\\Omega})$ ($k=1,...,M-1$) are all shifted versions of a prototype filter $H_0(e^{j\\Omega})$, the filter bank is called <b>uniform</b>. \n",
    "\n",
    "<img src=\"Imgs/image_2.png\" width = \"650\">\n",
    "\n",
    "In that case, it is possible to implement the entire filter bank by using the polyphase components $P_k$ of $H_0(e^{j\\Omega})$ only.\n",
    "The corresponding structure is represented in the figure below. \n",
    "\n",
    "<img src=\"Imgs/image_3.png\" width =\"500\">\n",
    "\n",
    "<br><br>\n",
    "<font size=5 color=#009999> <i>2.3 Implementation </i> </font>\n",
    "\n",
    "Let us consider the continuous time signal given by \n",
    "\n",
    "\\begin{equation*}\n",
    " x(t) = sin(2\\pi f_1t) + sin(2\\pi f_2t) + sin(2\\pi f_3t) + 1\n",
    "\\end{equation*}\n",
    "\n",
    "where $f_1 = 200$ Hz, $f_2 = 400$ Hz and $f_3 = 600$ Hz\n",
    "\n",
    "This signal is sampled at a sampling rate $f_s = 1400 $ Hz during 1 second. \n",
    "\n",
    "In order to separate the three frequencies and the DC component of the signal, we would like to employ a uniform filter bank. As prototype filter, we would like to use a moving average filter of order 14. \n",
    "\n",
    "Implement the uniform filter bank based on this prototype using the polyphase representation in the last figure.\n",
    "\n",
    "(Nb: the triangle with $M$ at the beginning of the figure represents an amplification of factor $M$ (in order to compensate for the factor $1/M$ in the definition of the IDFT)"
   ]
  },
  {
   "cell_type": "code",
   "execution_count": null,
   "metadata": {},
   "outputs": [],
   "source": [
    "#---------------------------------------------------------------------------\n",
    "#TO COMPLETE\n",
    "#---------------------------------------------------------------------------\n"
   ]
  },
  {
   "cell_type": "markdown",
   "metadata": {},
   "source": [
    "<font size=5 color=#009999> <i>2.3 (To go further - Optional) Analytical proof </i> </font>\n",
    "\n",
    "<img src=\"Imgs/image_3.png\" width =\"500\">\n",
    "\n",
    "Show analytically that the implementation of the above figure is correct (i.e. that it implements a uniform filter bank) and explain why it is efficient in terms of complexity (compared to a direct implementation)."
   ]
  },
  {
   "cell_type": "code",
   "execution_count": null,
   "metadata": {},
   "outputs": [],
   "source": []
  }
 ],
 "metadata": {
  "kernelspec": {
   "display_name": "Python 3",
   "language": "python",
   "name": "python3"
  },
  "language_info": {
   "codemirror_mode": {
    "name": "ipython",
    "version": 3
   },
   "file_extension": ".py",
   "mimetype": "text/x-python",
   "name": "python",
   "nbconvert_exporter": "python",
   "pygments_lexer": "ipython3",
   "version": "3.6.5"
  }
 },
 "nbformat": 4,
 "nbformat_minor": 2
}
