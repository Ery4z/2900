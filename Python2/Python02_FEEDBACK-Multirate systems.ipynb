{
 "cells": [
  {
   "cell_type": "markdown",
   "metadata": {},
   "source": [
    "<font size=5  color=#003366> <b>[LELEC2900] - Signal Processing <br><br> \n",
    "Python02 - Multirate systems</b> </font> <br><br><br>\n",
    "\n",
    "<font size=5  color=#003366>\n",
    "Prof. L. Vandendorpe<br>\n",
    "Prof. L. Jacques\n",
    "<br><br>\n",
    "Anne-Sophie Collin (anne-sophie.collin@uclouvain.be)<br> \n",
    "Florian Quatresooz (florian.quatresooz@uclouvain.be) <br>\n",
    "<br><br>\n",
    "</font>"
   ]
  },
  {
   "cell_type": "markdown",
   "metadata": {},
   "source": [
    "<font size=5 color=#009999> <b>1. Decimation and interpolation </b> </font> <br> <br>\n",
    "\n",
    "<font size=5 color=#009999> <i>1.1 Gentle reminder</i> </font>\n",
    "\n",
    "\n",
    "Multirate systems are fundamental in the design of modern signal processing techniques. In order to design such systems, one must be able to convert signals at higher or lower sample rates. With this aim in view, the concepts of interpolation and decimation have been addressed during the lectures: \n",
    "\n",
    "\n",
    "- <b>Interpolation</b> is used for converting a signal at a higher sample rate. The basic implementation of an interpolation filter (of factor $I$) consists in two successive steps:\n",
    "    - inserting $I-1$ zeros between the samples of the original signal\n",
    "    - Applying a low-pass filter on the signal.\n",
    "\n",
    "    <img src=\"Imgs/image_4.png\" width = \"400\">\n",
    "\n",
    "- <b>Decimation</b> is used for converting a signal at a lower sample rate. The basic implementation of a decimation filter (of factor $D$) consists in two successive steps:\n",
    "\n",
    "    - applying a low pass filter on the original signal (to avoid aliasing).\n",
    "    - removing $D-1$ samples for every block of $D$ succesive samples.\n",
    "\n",
    "    <img src=\"Imgs/image_5.png\" width = \"400\">\n",
    "    <br>\n",
    "    \n",
    "<font size=5 color=#009999> <i>1.2 Generate a sine wave</i> </font>\n",
    "\n",
    "The objective of this exercise is to apply the operations of decimation and interpolation on a simple sine function, and to observe their effects in the spectral domain.\n",
    "\n",
    "These operations of decimation and interpolation will be performed in three manners: \n",
    "\n",
    "<ol>\n",
    "   <li> By applying the standard definitions of these operations (without using polyphase components).\n",
    "   <li>By implementing polyphase components.\n",
    "   <li> Using the built in function <samp>signal.resample_poly<samp>.\n",
    "</ol>   \n",
    "We consider a continuous sine function of unit amplitude and with a frequency of $100$ Hz. This function is corrupted by a zero mean Gaussian noise of variance $0.05$. One records noisy measurements of this signal during $0.04$ seconds with a sampling frequency of $10^4$ Hz. Generate a vector x containing these measured values. Plot the resulting sequence in the time domain as well as its DFT (in magnitude)."
   ]
  },
  {
   "cell_type": "code",
   "execution_count": 1,
   "metadata": {},
   "outputs": [],
   "source": [
    "#---------------------------------------------------------------------------\n",
    "#TO RUN\n",
    "#We provide you two funtions to plot a time signal (with/without its DFT) in\n",
    "#the make_graphs file. Open the file to read the function's description if \n",
    "#you want to use them.\n",
    "#---------------------------------------------------------------------------\n",
    "\n",
    "%load_ext autoreload\n",
    "%autoreload 2\n",
    "from make_graphs import *\n",
    "import numpy as np   \n",
    "from scipy import signal as signal\n",
    "import cmath as math"
   ]
  },
  {
   "cell_type": "code",
   "execution_count": 1,
   "metadata": {},
   "outputs": [],
   "source": [
    "#---------------------------------------------------------------------------\n",
    "#TO COMPLETE\n",
    "#---------------------------------------------------------------------------\n"
   ]
  },
  {
   "cell_type": "markdown",
   "metadata": {},
   "source": [
    "<div class=\"alert alert-warning\">\n",
    "<b>FEEDBACK</b>  <br>\n",
    "\n",
    "<b>Original sine wave and DFT</b>  <br>\n",
    "<img src=\"FeedbackImgs/1-2_fig1.png\" width = \"600\">\n",
    "</div>"
   ]
  },
  {
   "cell_type": "markdown",
   "metadata": {},
   "source": [
    "<font size=5 color=#009999> <i>1.3 Standard decimation and interpolation</i> </font>\n",
    "\n",
    "In order to simplify the sinusoidal storage or transmission, we decimate signal $x$ by $M=10$, after performing a proper lowpass filtering to minimize aliasing distortion. \n",
    "\n",
    "Since digital filters have not been covered yet in this course, the low-pass filter that we will implement here is arbitrarily chosen. We here select a moving average filter of order 20 since this filter is easy to implement.\n",
    "As a reminder, the impulse response of a moving average filter of order $N$ is given by \n",
    "$$h[n] = \\frac{1}{N}  ~\\text{for}~ n = 0,...,N-1.$$\n",
    "\n",
    "Since the impulse response of this filter is a rectangle, its Fourier transform is a cardinal sine, which can be used to perform the low pass filtering operation. \n",
    "    \n",
    "Plot the decimated signal in the frequency domain as well as its DFT (in magnitude).\n"
   ]
  },
  {
   "cell_type": "code",
   "execution_count": 2,
   "metadata": {},
   "outputs": [],
   "source": [
    "#---------------------------------------------------------------------------\n",
    "#TO COMPLETE\n",
    "#---------------------------------------------------------------------------\n"
   ]
  },
  {
   "cell_type": "markdown",
   "metadata": {},
   "source": [
    "<div class=\"alert alert-warning\">\n",
    "<b>FEEDBACK</b>  <br>\n",
    "\n",
    "<b>Standard decimation</b>  <br>\n",
    "<img src=\"FeedbackImgs/1-3_fig1.png\" width = \"600\">\n",
    "</div>"
   ]
  },
  {
   "cell_type": "markdown",
   "metadata": {},
   "source": [
    "Expand the rate back to its original value by introducing $(M-1)$ zeros between each two consecutive subsamples.\n",
    "   \n",
    "Plot the resulting sequence in the time domain as well as its DFT (in magnitude)."
   ]
  },
  {
   "cell_type": "code",
   "execution_count": 3,
   "metadata": {},
   "outputs": [],
   "source": [
    "#---------------------------------------------------------------------------\n",
    "#TO COMPLETE\n",
    "#---------------------------------------------------------------------------\n"
   ]
  },
  {
   "cell_type": "markdown",
   "metadata": {},
   "source": [
    "<div class=\"alert alert-warning\">\n",
    "<b>FEEDBACK</b>  <br>\n",
    "\n",
    "<b>Standard interpolation</b>  <br>\n",
    "<img src=\"FeedbackImgs/1-3_fig2.png\" width = \"600\">\n",
    "</div>"
   ]
  },
  {
   "cell_type": "markdown",
   "metadata": {},
   "source": [
    "Remove the spectral repetitions induced by the inserted zeros by means of a low pass filter. Make use of a triangular filter of length $20$ (using the function <samp>signal.triang</samp>)."
   ]
  },
  {
   "cell_type": "code",
   "execution_count": 4,
   "metadata": {},
   "outputs": [],
   "source": [
    "#---------------------------------------------------------------------------\n",
    "#TO COMPLETE\n",
    "#---------------------------------------------------------------------------\n"
   ]
  },
  {
   "cell_type": "markdown",
   "metadata": {},
   "source": [
    "<div class=\"alert alert-warning\">\n",
    "<b>FEEDBACK</b>  <br>\n",
    "\n",
    "<b>Remove spectral repetitions</b>  <br>\n",
    "<img src=\"FeedbackImgs/1-3_fig3.png\" width = \"600\">\n",
    "</div>"
   ]
  },
  {
   "cell_type": "markdown",
   "metadata": {},
   "source": [
    "Compare the resulting signals with the original signal before decimation. What do you observe (in the time and frequency domains)?"
   ]
  },
  {
   "cell_type": "markdown",
   "metadata": {},
   "source": [
    "<font size=5 color=#009999> <i>1.4 Decimation and interpolation using polyphase components</i> </font>\n",
    "\n",
    "As explained in the slides of Lecture 3, it is possible to employ polyphase components to perform rate changing operations using less operations. Repeat the rate changing operations of the previous section using this approach."
   ]
  },
  {
   "cell_type": "code",
   "execution_count": 5,
   "metadata": {},
   "outputs": [],
   "source": [
    "#---------------------------------------------------------------------------\n",
    "#TO COMPLETE\n",
    "#---------------------------------------------------------------------------\n",
    "\n"
   ]
  },
  {
   "cell_type": "markdown",
   "metadata": {},
   "source": [
    "<div class=\"alert alert-warning\">\n",
    "<b>COMPLEMENTARY EXPLANATION</b>  <br>\n",
    "\n",
    "In section 1.3, we applied sequentially a standard decimator operator and a standard interpolator operator. This process is depicted by the image below (both blocks are applied successively):<br>\n",
    "\n",
    "<img src=\"FeedbackImgs/image_7b.png\" width = \"600\"><br>\n",
    "\n",
    "You can notice that both filters are applied on the original sampling rate. Objective of polyphase decomposition is providing a more efficient method for sampling rate conversion. <br><br>\n",
    "\n",
    "First, let's consider a naïve extension of our standard decimation/interpolation with polyphase representation: \n",
    "<br>\n",
    "<img src=\"FeedbackImgs/image_6.png\" width = \"600\"><br>\n",
    "The only difference from the process described above is that both the signal and the filters are delayed to compute the polyphase components. This is computationally expensive!<br><br>\n",
    "\n",
    "We can handle this issue by inverting the order of filtering and decimation/interpolation operations:\n",
    "<img src=\"FeedbackImgs/image_7.png\" width = \"600\"><br>\n",
    "Instead of using the (b) sequence, we will choose (a) in both cases because the filtering is done at the lower sampling rate.<br><br>\n",
    "\n",
    "We then obtain the new <b>polyphase decimation system</b>: \n",
    "<img src=\"FeedbackImgs/image_8.png\" width = \"400\"><br>\n",
    "<ol>\n",
    "    <li> Samples arrive at each polyphase filter at a rate of $1/M$ the original sampling rate.\n",
    "    <li> Each subfilter has $N/M$ coefficients.\n",
    "</ol>\n",
    "And also the new <b>polyphase interpolation system</b>: \n",
    "<img src=\"FeedbackImgs/image_9.png\" width = \"400\"><br>\n",
    "<ol>\n",
    "    <li> Samples arrive at each polyphase filter at the original sampling rate.\n",
    "    <li> Each subfilter has $N/L$ coefficients.\n",
    "</ol>\n",
    "</div>\n"
   ]
  },
  {
   "cell_type": "markdown",
   "metadata": {},
   "source": [
    "<div class=\"alert alert-warning\">\n",
    "<b>FEEDBACK</b>  <br>\n",
    "\n",
    "<b>Decimation using polyphase components</b>  <br>\n",
    "<img src=\"FeedbackImgs/1-4_fig1.png\" width = \"600\">\n",
    "<br><br>\n",
    "<b>Interpolation using polyphase components</b>  <br>\n",
    "<img src=\"FeedbackImgs/1-4_fig2.png\" width = \"600\">\n",
    "</div>"
   ]
  },
  {
   "cell_type": "markdown",
   "metadata": {},
   "source": [
    "<font size=5 color=#009999> <i>1.5 Decimation and interpolation using Python built in function</i> </font>\n",
    "\n",
    "Repeat the rate-changing operations employed in the present experiment by using functions signal.resample_poly from scipy.  \n"
   ]
  },
  {
   "cell_type": "code",
   "execution_count": 6,
   "metadata": {},
   "outputs": [],
   "source": [
    "#---------------------------------------------------------------------------\n",
    "#TO COMPLETE\n",
    "#---------------------------------------------------------------------------\n"
   ]
  },
  {
   "cell_type": "markdown",
   "metadata": {},
   "source": [
    "<div class=\"alert alert-warning\">\n",
    "<b>FEEDBACK</b>  <br>\n",
    "\n",
    "<b>Signal obtained after successive decimation and interpolation buit-in python function relying on using polyphase components</b>  <br>\n",
    "<img src=\"FeedbackImgs/1-5_fig1.png\" width = \"600\">\n",
    "</div>"
   ]
  },
  {
   "cell_type": "markdown",
   "metadata": {},
   "source": [
    "Compare the recovered signals in time and frequency with those obtained in section A."
   ]
  },
  {
   "cell_type": "markdown",
   "metadata": {},
   "source": [
    "<font size=5 color=#009999> <b>2. Filter banks </b> </font> <br> <br>\n",
    "\n",
    "In the framework of the following exercise, we introduce the concept of <b>filter bank</b> (see figure below).\n",
    "\n",
    "A filter bank consists in an array of bandpass filters that separate an original signal $x[n]$ into $N$ subband signals $y_k[n]$. \n",
    "Each of these subband signals contains a specific portion of the spectrum of the original signal. <br>\n",
    "The process of separating and modifying the subband signals is called <b>analysis</b>. <br>\n",
    "The process of recombining the subband signals into one total output signal is called <b>synthesis</b>.\n",
    "\n",
    "<img src=\"Imgs/image_1.png\" width = \"800\"><br><br>\n",
    "\n",
    "<font size=5 color=#009999> <i>2.1 Example of application </i> </font>\n",
    "\n",
    "In practice, a filter bank can be used for instance to manipulate audio signals. In the analysis filter bank, the signal is first decomposed into different subband signals. These subbands signals $y_k[n]$ can then be modified (to become $\\hat{y}_k[n]$). Possible modifications can include\n",
    "\n",
    "- Downsampling\n",
    "- Storage/transmission\n",
    "- Filtering\n",
    "- ...\n",
    "\n",
    "In the case of audio signals, some frequencies are more important than others for the hearing. If the signal has to be stored in a memory for instance: \n",
    "\n",
    "- subband signals associated to frequencies that are less 'important' can be compressed at a lower resolution\n",
    "- subband signals associated to frequencies that are more important can be compressed at a higher resolution\n",
    "\n",
    "<br><br>\n",
    "<font size=5 color=#009999> <i>2.2 Uniform filter bank </i> </font>\n",
    "\n",
    "If the filters $H_k(e^{j\\Omega})$ ($k=1,...,M-1$) are all shifted versions of a prototype filter $H_0(e^{j\\Omega})$, the filter bank is called <b>uniform</b>. \n",
    "\n",
    "<img src=\"Imgs/image_2.png\" width = \"650\">\n",
    "\n",
    "In that case, it is possible to implement the entire filter bank by using the polyphase components $P_k$ of $H_0(e^{j\\Omega})$ only.\n",
    "The corresponding structure is represented in the figure below. \n",
    "\n",
    "<img src=\"Imgs/image_3.png\" width =\"500\">\n",
    "\n",
    "<br><br>\n",
    "<font size=5 color=#009999> <i>2.3 Implementation </i> </font>\n",
    "\n",
    "Let us consider the continuous time signal given by \n",
    "\n",
    "\\begin{equation*}\n",
    " x(t) = sin(2\\pi f_1t) + sin(2\\pi f_2t) + sin(2\\pi f_3t) + 1\n",
    "\\end{equation*}\n",
    "\n",
    "where $f_1 = 200$ Hz, $f_2 = 400$ Hz and $f_3 = 600$ Hz\n",
    "\n",
    "This signal is sampled at a sampling rate $f_s = 1400 $ Hz during 1 second. \n",
    "\n",
    "In order to separate the three frequencies and the DC component of the signal, we would like to employ a uniform filter bank. As prototype filter, we would like to use a moving average filter of order 14. \n",
    "\n",
    "Implement the uniform filter bank based on this prototype using the polyphase representation in the last figure.\n",
    "\n",
    "(Nb: the triangle with $M$ at the beginning of the figure represents an amplification of factor $M$ (in order to compensate for the factor $1/M$ in the definition of the IDFT)"
   ]
  },
  {
   "cell_type": "markdown",
   "metadata": {},
   "source": [
    "<div class=\"alert alert-warning\">\n",
    "<b>COMPLEMENTARY EXPLANATION</b>  <br>\n",
    "\n",
    "<b>Note about vector dimensions.</b><br>\n",
    "Unlike the previous example of polyphase decomposition (section 1.4) which purpose was to change the sampling rate of a signal, the current filtering operations (for each polyphase components) are not performed after resampling. It means: \n",
    "<ol>\n",
    "    <li> The input signal x is not decimated/interpolated;\n",
    "    <li> The polyphase components of the filter ($P_k$) will be obtained after zero insertion (denoted by the $M$ exponent in $P_k(z^M)$). \n",
    "</ol><br><br>\n",
    "\n",
    "<b>Note about the IDFT.</b><br>\n",
    "As reminder, the IDFT formula is the following: \n",
    "$$ x_m = \\frac{1}{M} \\sum_{m}^{M-1} X_m~ e^{2 \\pi i m k/M} $$\n",
    "The outputs signals $\\nu_k$ (=input signal filtered by the $H_k$ pass-band filter) can be obtained by varying the $k$ parameter in the IDFT formula as following: \n",
    "<dl>\n",
    "    <dd>- $\\nu_0= \\frac{1}{M} \\sum_{m}^{M-1} X_m~ e^{2 \\pi i m 0/M}$\n",
    "    <dd>- $\\nu_1= \\frac{1}{M} \\sum_{m}^{M-1} X_m~ e^{2 \\pi i m 1/M}$\n",
    "    <dd>- ...\n",
    "    <dd>- $\\nu_{M-1}= \\frac{1}{M} \\sum_{m}^{M-1} X_m~ e^{2 \\pi i m ({M-1})/M}$\n",
    "</dl>\n",
    "In this particular example, we will observe redundancies in the outputs ($\\nu_3 = \\nu_4$, $\\nu_2 = \\nu_5$,...). This is why we provided only graphs for $\\nu_0$, $\\nu_1$, $\\nu_2$ and $\\nu_0$.\n",
    "</div>\n"
   ]
  },
  {
   "cell_type": "code",
   "execution_count": 7,
   "metadata": {},
   "outputs": [],
   "source": [
    "#---------------------------------------------------------------------------\n",
    "#TO COMPLETE\n",
    "#---------------------------------------------------------------------------\n",
    "\n"
   ]
  },
  {
   "cell_type": "markdown",
   "metadata": {},
   "source": [
    "<div class=\"alert alert-warning\">\n",
    "<b>FEEDBACK</b>  <br>\n",
    "\n",
    "<b>Original signal </b>  <br>\n",
    "<img src=\"FeedbackImgs/2-3_fig1.png\" width = \"600\">\n",
    "<br><br>\n",
    "<b>Signals after filter bank ($\\nu_k$ with k={0,1,2,3})</b>  <br>\n",
    "We observe that each ouput signal $\\nu_k$ is equivalent to a filtered version of the input by a pass-band filter. Parameters have been choosen to isolate each of the 3 original sine wave components of the signal.<br> \n",
    "<img src=\"FeedbackImgs/2-3_fig2.png\" width = \"600\">\n",
    "</div>"
   ]
  },
  {
   "cell_type": "markdown",
   "metadata": {},
   "source": [
    "<font size=5 color=#009999> <i>2.3 (To go further - Optional) Analytical proof </i> </font>\n",
    "\n",
    "<img src=\"Imgs/image_3.png\" width =\"500\">\n",
    "\n",
    "Show analytically that the implementation of the above figure is correct (i.e. that it implements a uniform filter bank) and explain why it is efficient in terms of complexity (compared to a direct implementation)."
   ]
  },
  {
   "cell_type": "markdown",
   "metadata": {},
   "source": [
    "<div class=\"alert alert-warning\">\n",
    "<b>FEEDBACK</b>  <br><br>\n",
    "\n",
    "1. <b> Show analytically that the implementation of the above figure is correct (i.e. that it implements a uniform filter bank) </b><br><br>\n",
    "\n",
    "Let us decompose the prototype filter $H_0$ into $M$ polyphase components. In that case, the z transform of the prototype filter can be expressed as function of the z transforms of its polyphase components:\n",
    "\n",
    "\\begin{equation*}\n",
    "    H_0(z) = \\sum_{l=0}^{M-1}z^{-l}P_l(z^M)\n",
    "\\end{equation*}\n",
    "\n",
    "where $P_l(z)$ is the z transform of the $l$th polyhase component: \n",
    "\n",
    "\\begin{equation*}\n",
    "    P_l(z) = \\sum_{n=0}^{\\infty} p_l(n)z^{-n} = \\sum_{n=0}^{\\infty} h_0(l+nM)z^{-n}, \\; \\; l=0,\\dots,M-1\n",
    "\\end{equation*}\n",
    "\n",
    "Recall also that $H_k(z)$ results from frequency shifting of $H_0(z)$, which in the z-plane corresponds to the rotation $z \\rightarrow z e^{-j2\\pi k/M}$. We can hence write:\n",
    "\n",
    "\\begin{align*}\n",
    "    H_k(z) &= H_0(z e^{-j2\\pi k/M}) \\\\\n",
    "    &= \\sum_{l=0}^{M-1}z^{-l}e^{j2\\pi kl/M}P_l(z^Me^{-j2\\pi kM/M})\\\\\n",
    "    &= \\sum_{l=0}^{M-1}z^{-l}e^{j2\\pi kl/M}P_l(z^M)\n",
    "\\end{align*}\n",
    "\n",
    "The z transform $V_k(z)$ of the $k$th output signal of the filter bank can be expressed as \n",
    "\n",
    "\\begin{equation*}\n",
    "    V_k(z) = H_k(z)X(z) = \\Big(\\sum_{l=0}^{M-1}z^{-l}e^{j2\\pi kl/M}P_l(z^M) \\Big) X(z)\n",
    "\\end{equation*}\n",
    "\n",
    "By definition of the IDFT, one can observe that this last result is implemented by the operations of the proposed block scheme. (Note that the input gain $M$ cancels the factor $\\frac{1}{M}$ of the IDFT).<br><br>\n",
    "\n",
    "2. <b> Explain why it is efficient in terms of complexity (compared to a direct implementation).</b><br><br>\n",
    "\n",
    "Assuming a prototype filter with $N$ coefficients and $M$ subbands, the uniform DFT filter bank requires:<br>\n",
    "\n",
    "- $N.M$ multiplications for a direct implementation<br>\n",
    "\n",
    "- $N+M.\\log_2 M$ multiplications with the polyphase implementation ($N$ multiplications since the polyphase filter implements one FIR filter and $M.\\log_2 M$ for the complexity of the IDFT is the Fast Fourier transform algorithm is employed).<br>\n",
    "\n",
    "</div>"
   ]
  },
  {
   "cell_type": "code",
   "execution_count": null,
   "metadata": {},
   "outputs": [],
   "source": []
  }
 ],
 "metadata": {
  "kernelspec": {
   "display_name": "Python 3",
   "language": "python",
   "name": "python3"
  },
  "language_info": {
   "codemirror_mode": {
    "name": "ipython",
    "version": 3
   },
   "file_extension": ".py",
   "mimetype": "text/x-python",
   "name": "python",
   "nbconvert_exporter": "python",
   "pygments_lexer": "ipython3",
   "version": "3.6.5"
  }
 },
 "nbformat": 4,
 "nbformat_minor": 2
}
